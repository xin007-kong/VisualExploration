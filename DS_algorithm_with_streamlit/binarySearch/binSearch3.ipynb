{
 "cells": [
  {
   "cell_type": "code",
   "execution_count": 1,
   "metadata": {},
   "outputs": [
    {
     "name": "stdout",
     "output_type": "stream",
     "text": [
      "找到目标值，其索引为： 2\n"
     ]
    },
    {
     "data": {
      "image/png": "[encoded data removed]",
      "text/plain": [
       "<Figure size 432x288 with 1 Axes>"
      ]
     },
     "metadata": {
      "needs_background": "light"
     },
     "output_type": "display_data"
    }
   ],
   "source": [
    "import matplotlib.pyplot as plt\n",
    "import numpy as np\n",
    "import time\n",
    "\n",
    "\n",
    "def binary_search(arr, target):\n",
    "    \"\"\"二分查找算法\"\"\"\n",
    "    left, right = 0, len(arr) - 1\n",
    "    while left <= right:\n",
    "        mid = left + (right - left) // 2  # 计算中间位置\n",
    "        if arr[mid] == target:\n",
    "            return mid  # 找到目标值，返回其索引\n",
    "        elif arr[mid] < target:\n",
    "            left = mid + 1  # 目标值在右半部分，更新左边界\n",
    "        else:\n",
    "            right = mid - 1  # 目标值在左半部分，更新右边界\n",
    "    return -1  # 未找到目标值\n",
    "\n",
    "\n",
    "def visualize_search_process(arr, target):\n",
    "    \"\"\"可视化演示二分查找过程\"\"\"\n",
    "    fig, ax = plt.subplots()\n",
    "    ax.set_title(\"Binary Search Visualization\")\n",
    "    ax.set_xlabel(\"Index\")\n",
    "    ax.set_ylabel(\"Value\")\n",
    "    ax.set_xticks(np.arange(len(arr)))\n",
    "    ax.set_xticklabels(np.arange(1, len(arr)+1))\n",
    "    ax.scatter(np.arange(len(arr)), arr)\n",
    "\n",
    "    # 二分查找前需要对列表进行排序\n",
    "    arr.sort()\n",
    "\n",
    "    left, right = 0, len(arr) - 1\n",
    "    while left <= right:\n",
    "        mid = left + (right - left) // 2\n",
    "        # 可视化展示当前查找范围\n",
    "        ax.fill_between(np.arange(left, right+1),\n",
    "                        arr[left:right+1], color=\"lightblue\")\n",
    "        # 可视化展示当前中间位置和中间值\n",
    "        ax.axvline(x=mid, color=\"red\")\n",
    "        ax.annotate(str(arr[mid]), xy=(mid, arr[mid]),\n",
    "                    xytext=(mid, arr[mid]+10), ha=\"center\")\n",
    "        fig.canvas.draw()\n",
    "        time.sleep(1)  # 延迟一秒以方便演示\n",
    "\n",
    "        if arr[mid] == target:\n",
    "            ax.axvline(x=mid, color=\"green\")\n",
    "            ax.annotate(str(arr[mid]), xy=(mid, arr[mid]),\n",
    "                        xytext=(mid, arr[mid]+10), ha=\"center\")\n",
    "            fig.canvas.draw()\n",
    "            print(\"找到目标值，其索引为：\", mid)\n",
    "            break\n",
    "        elif arr[mid] < target:\n",
    "            left = mid + 1\n",
    "        else:\n",
    "            right = mid - 1\n",
    "\n",
    "    if left > right:\n",
    "        print(\"未找到目标值\")\n",
    "\n",
    "    plt.show()\n",
    "\n",
    "\n",
    "arr = [5, 2, 8, 1, 9, 3, 7, 4, 6]\n",
    "target = 3\n",
    "visualize_search_process(arr, target)\n"
   ]
  },
  {
   "cell_type": "code",
   "execution_count": null,
   "metadata": {},
   "outputs": [],
   "source": []
  }
 ],
 "metadata": {
  "kernelspec": {
   "display_name": "base",
   "language": "python",
   "name": "python3"
  },
  "language_info": {
   "codemirror_mode": {
    "name": "ipython",
    "version": 3
   },
   "file_extension": ".py",
   "mimetype": "text/x-python",
   "name": "python",
   "nbconvert_exporter": "python",
   "pygments_lexer": "ipython3",
   "version": "3.8.5"
  },
  "orig_nbformat": 4
 },
 "nbformat": 4,
 "nbformat_minor": 2
}
